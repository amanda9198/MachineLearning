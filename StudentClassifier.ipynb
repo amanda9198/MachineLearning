{
  "cells": [
    {
      "cell_type": "markdown",
      "metadata": {
        "id": "mPZLxHG7N9mu"
      },
      "source": [
        "# **Kaggle HW5: [AJK]**"
      ]
    },
    {
      "cell_type": "markdown",
      "metadata": {
        "id": "lRZ0yjtqYELC"
      },
      "source": [
        "**Remember to write your team name above, which MUST match your team name on Kaggle!!** Assignments without a team name will receive a 0/40 on the \"accuracy on test data\" component of this assignment's grade."
      ]
    },
    {
      "cell_type": "markdown",
      "metadata": {
        "id": "lwnjXjk4B41V"
      },
      "source": [
        "### **Load the Data**"
      ]
    },
    {
      "cell_type": "code",
      "execution_count": null,
      "metadata": {
        "id": "4WRff5x-3TYI"
      },
      "outputs": [],
      "source": [
        "# This cell is necessary only if you are running on Google Colab. It downloads the files to your\n",
        "# Colab instance so you don't have to upload them here.\n",
        "\n",
        "import requests\n",
        "\n",
        "def save_file(url, file_name):\n",
        "    r = requests.get(url)\n",
        "    with open(file_name, 'wb') as f:\n",
        "      f.write(r.content)\n",
        "\n",
        "save_file('https://courses.cs.washington.edu/courses/cse416/23sp/homeworks/hw5/edx_train.csv',\n",
        "          'edx_train.csv')\n",
        "save_file('https://courses.cs.washington.edu/courses/cse416/23sp/homeworks/hw5/edx_test.csv',\n",
        "          'edx_test.csv')"
      ]
    },
    {
      "cell_type": "markdown",
      "metadata": {
        "id": "4RBuRNVKB_sa"
      },
      "source": [
        "### **Sample Code: Random Classifier**\n",
        "\n",
        "**NOTE**: This classifier **DOES NOT** count as one of the 2 required for this assignment! It is merely here to illstrate how to submit your predictions.\n",
        "\n",
        "See the Kaggle assignment (Data tab) for a description of each column in the dataset. You are creating a classifier to predict whether or not a student will get certified, stored in the `\"certified\"` column."
      ]
    },
    {
      "cell_type": "code",
      "execution_count": null,
      "metadata": {
        "colab": {
          "base_uri": "https://localhost:8080/",
          "height": 75
        },
        "id": "O_mvbzSAd5dU",
        "outputId": "acdcde60-dacd-4d9a-fbe1-105add320412"
      },
      "outputs": [
        {
          "output_type": "execute_result",
          "data": {
            "text/plain": [
              "DummyClassifier(strategy='uniform')"
            ],
            "text/html": [
              "<style>#sk-container-id-7 {color: black;background-color: white;}#sk-container-id-7 pre{padding: 0;}#sk-container-id-7 div.sk-toggleable {background-color: white;}#sk-container-id-7 label.sk-toggleable__label {cursor: pointer;display: block;width: 100%;margin-bottom: 0;padding: 0.3em;box-sizing: border-box;text-align: center;}#sk-container-id-7 label.sk-toggleable__label-arrow:before {content: \"▸\";float: left;margin-right: 0.25em;color: #696969;}#sk-container-id-7 label.sk-toggleable__label-arrow:hover:before {color: black;}#sk-container-id-7 div.sk-estimator:hover label.sk-toggleable__label-arrow:before {color: black;}#sk-container-id-7 div.sk-toggleable__content {max-height: 0;max-width: 0;overflow: hidden;text-align: left;background-color: #f0f8ff;}#sk-container-id-7 div.sk-toggleable__content pre {margin: 0.2em;color: black;border-radius: 0.25em;background-color: #f0f8ff;}#sk-container-id-7 input.sk-toggleable__control:checked~div.sk-toggleable__content {max-height: 200px;max-width: 100%;overflow: auto;}#sk-container-id-7 input.sk-toggleable__control:checked~label.sk-toggleable__label-arrow:before {content: \"▾\";}#sk-container-id-7 div.sk-estimator input.sk-toggleable__control:checked~label.sk-toggleable__label {background-color: #d4ebff;}#sk-container-id-7 div.sk-label input.sk-toggleable__control:checked~label.sk-toggleable__label {background-color: #d4ebff;}#sk-container-id-7 input.sk-hidden--visually {border: 0;clip: rect(1px 1px 1px 1px);clip: rect(1px, 1px, 1px, 1px);height: 1px;margin: -1px;overflow: hidden;padding: 0;position: absolute;width: 1px;}#sk-container-id-7 div.sk-estimator {font-family: monospace;background-color: #f0f8ff;border: 1px dotted black;border-radius: 0.25em;box-sizing: border-box;margin-bottom: 0.5em;}#sk-container-id-7 div.sk-estimator:hover {background-color: #d4ebff;}#sk-container-id-7 div.sk-parallel-item::after {content: \"\";width: 100%;border-bottom: 1px solid gray;flex-grow: 1;}#sk-container-id-7 div.sk-label:hover label.sk-toggleable__label {background-color: #d4ebff;}#sk-container-id-7 div.sk-serial::before {content: \"\";position: absolute;border-left: 1px solid gray;box-sizing: border-box;top: 0;bottom: 0;left: 50%;z-index: 0;}#sk-container-id-7 div.sk-serial {display: flex;flex-direction: column;align-items: center;background-color: white;padding-right: 0.2em;padding-left: 0.2em;position: relative;}#sk-container-id-7 div.sk-item {position: relative;z-index: 1;}#sk-container-id-7 div.sk-parallel {display: flex;align-items: stretch;justify-content: center;background-color: white;position: relative;}#sk-container-id-7 div.sk-item::before, #sk-container-id-7 div.sk-parallel-item::before {content: \"\";position: absolute;border-left: 1px solid gray;box-sizing: border-box;top: 0;bottom: 0;left: 50%;z-index: -1;}#sk-container-id-7 div.sk-parallel-item {display: flex;flex-direction: column;z-index: 1;position: relative;background-color: white;}#sk-container-id-7 div.sk-parallel-item:first-child::after {align-self: flex-end;width: 50%;}#sk-container-id-7 div.sk-parallel-item:last-child::after {align-self: flex-start;width: 50%;}#sk-container-id-7 div.sk-parallel-item:only-child::after {width: 0;}#sk-container-id-7 div.sk-dashed-wrapped {border: 1px dashed gray;margin: 0 0.4em 0.5em 0.4em;box-sizing: border-box;padding-bottom: 0.4em;background-color: white;}#sk-container-id-7 div.sk-label label {font-family: monospace;font-weight: bold;display: inline-block;line-height: 1.2em;}#sk-container-id-7 div.sk-label-container {text-align: center;}#sk-container-id-7 div.sk-container {/* jupyter's `normalize.less` sets `[hidden] { display: none; }` but bootstrap.min.css set `[hidden] { display: none !important; }` so we also need the `!important` here to be able to override the default hidden behavior on the sphinx rendered scikit-learn.org. See: https://github.com/scikit-learn/scikit-learn/issues/21755 */display: inline-block !important;position: relative;}#sk-container-id-7 div.sk-text-repr-fallback {display: none;}</style><div id=\"sk-container-id-7\" class=\"sk-top-container\"><div class=\"sk-text-repr-fallback\"><pre>DummyClassifier(strategy=&#x27;uniform&#x27;)</pre><b>In a Jupyter environment, please rerun this cell to show the HTML representation or trust the notebook. <br />On GitHub, the HTML representation is unable to render, please try loading this page with nbviewer.org.</b></div><div class=\"sk-container\" hidden><div class=\"sk-item\"><div class=\"sk-estimator sk-toggleable\"><input class=\"sk-toggleable__control sk-hidden--visually\" id=\"sk-estimator-id-7\" type=\"checkbox\" checked><label for=\"sk-estimator-id-7\" class=\"sk-toggleable__label sk-toggleable__label-arrow\">DummyClassifier</label><div class=\"sk-toggleable__content\"><pre>DummyClassifier(strategy=&#x27;uniform&#x27;)</pre></div></div></div></div></div>"
            ]
          },
          "metadata": {},
          "execution_count": 38
        }
      ],
      "source": [
        "import pandas as pd\n",
        "from sklearn.dummy import DummyClassifier\n",
        "\n",
        "target = \"certified\" # target column\n",
        "\n",
        "# This classifier returns labels sampled uniformly at random\n",
        "df_train = pd.read_csv('edx_train.csv')\n",
        "dummy_model = DummyClassifier(strategy=\"uniform\")\n",
        "dummy_model.fit(df_train.drop(target, axis=1), df_train[target])"
      ]
    },
    {
      "cell_type": "markdown",
      "metadata": {
        "id": "F3pMT8VlEk15"
      },
      "source": [
        "The code below generates predictions on the test set, and outputs the predictions into a CSV file."
      ]
    },
    {
      "cell_type": "code",
      "execution_count": null,
      "metadata": {
        "id": "W1vMUKAVeDWK"
      },
      "outputs": [],
      "source": [
        "# Generate predictions on the test set\n",
        "df_test = pd.read_csv('edx_test.csv')\n",
        "predictions = dummy_model.predict(df_test)\n",
        "\n",
        "# Save your predictions as a CSV\n",
        "to_save = df_test[['userid_DI']].copy()\n",
        "to_save.loc[:, 'certified'] = predictions\n",
        "to_save.to_csv('submission.csv', index=False)\n",
        "\n",
        "# See below for instructions on how to upload submission.csv to Kaggle,\n",
        "# in order to evaluate your model and get points."
      ]
    },
    {
      "cell_type": "markdown",
      "metadata": {
        "id": "r4Sv5DRBOJ_Q"
      },
      "source": [
        "### **[5 Pts] Model Comparison**\n",
        "\n",
        "**Instructions**: Run at least 2 different classification models. The classification models we have learned in class are: [Logistic Regression](https://scikit-learn.org/stable/modules/generated/sklearn.linear_model.LogisticRegression.html), [k-Nearest Neighbors](https://scikit-learn.org/stable/modules/generated/sklearn.neighbors.KNeighborsClassifier.html), [Decision Trees](https://scikit-learn.org/stable/modules/generated/sklearn.tree.DecisionTreeClassifier.html), [Random Forests](https://scikit-learn.org/stable/modules/generated/sklearn.ensemble.RandomForestClassifier.html), and [AdaBoost](https://scikit-learn.org/stable/modules/generated/sklearn.ensemble.AdaBoostClassifier.html), [Neural Networks](https://scikit-learn.org/stable/modules/neural_networks_supervised.html). For each model, try at least 2 different hyperparameter settings.\n",
        "\n",
        "Then, make one or more visualizations that let you compare the models you trained. Sample visualizations you can make include confusion matrices, or graphs of train and validation accuracy/error. See past section and homework code for how to make these visualizations."
      ]
    },
    {
      "cell_type": "code",
      "source": [
        "from sklearn.model_selection import train_test_split, GridSearchCV\n",
        "from sklearn.tree import DecisionTreeClassifier\n",
        "from sklearn.ensemble import RandomForestClassifier\n",
        "from sklearn.metrics import accuracy_score, confusion_matrix\n",
        "from sklearn.preprocessing import StandardScaler\n",
        "import seaborn as sns\n",
        "import matplotlib.pyplot as plt"
      ],
      "metadata": {
        "id": "8P-4rbMMX5l6"
      },
      "execution_count": null,
      "outputs": []
    },
    {
      "cell_type": "code",
      "source": [
        "student_info = pd.read_csv('edx_train.csv')\n",
        "print(student_info.head())"
      ],
      "metadata": {
        "colab": {
          "base_uri": "https://localhost:8080/"
        },
        "id": "1De9kpoWrXIJ",
        "outputId": "3436a525-40bc-40db-ff06-777aae67a9d4"
      },
      "execution_count": null,
      "outputs": [
        {
          "output_type": "stream",
          "name": "stdout",
          "text": [
            "                    course_id       userid_DI  registered  viewed  explored  \\\n",
            "0         HarvardX/CS50x/2012  MHxPC130545492           1       1         1   \n",
            "1  HarvardX/ER22x/2013_Spring  MHxPC130536944           1       1         1   \n",
            "2         HarvardX/CS50x/2012  MHxPC130442298           1       1         1   \n",
            "3  HarvardX/ER22x/2013_Spring  MHxPC130273564           1       1         1   \n",
            "4         HarvardX/CS50x/2012  MHxPC130247761           1       1         0   \n",
            "\n",
            "   certified final_cc_cname_DI      LoE_DI     YoB gender start_time_DI  \\\n",
            "0          1     United States    Master's  1984.0      m       3/10/13   \n",
            "1          1    United Kingdom    Master's  1985.0      f       3/13/13   \n",
            "2          1             India         NaN     NaN    NaN        8/2/12   \n",
            "3          1    United Kingdom  Bachelor's  1982.0      m       1/23/13   \n",
            "4          0     United States   Secondary  1989.0      m        3/5/13   \n",
            "\n",
            "  last_event_DI  nevents  ndays_act  nplay_video  nchapters  nforum_posts  \n",
            "0       7/29/13   1161.0       50.0          NaN       12.0             0  \n",
            "1        8/1/13   1360.0       10.0          NaN       29.0             0  \n",
            "2       7/25/13     77.0       18.0          NaN        7.0             0  \n",
            "3       8/13/13   1425.0       29.0          NaN       34.0             0  \n",
            "4        3/5/13      6.0        1.0          NaN        1.0             0  \n"
          ]
        }
      ]
    },
    {
      "cell_type": "code",
      "source": [
        "import pandas as pd\n",
        "from sklearn.model_selection import train_test_split\n",
        "from sklearn.tree import DecisionTreeClassifier\n",
        "from sklearn.ensemble import RandomForestClassifier\n",
        "from sklearn.metrics import accuracy_score, confusion_matrix\n",
        "from sklearn.preprocessing import StandardScaler\n",
        "import seaborn as sns\n",
        "import matplotlib.pyplot as plt\n",
        "\n",
        "features = ['course_id', 'explored',\n",
        "                 'final_cc_cname_DI', 'LoE_DI', 'gender',\n",
        "                 'nevents', 'ndays_act', 'nplay_video', 'nchapters', 'nforum_posts']\n",
        "\n",
        "df_train = pd.read_csv('edx_train.csv')\n",
        "df_test = pd.read_csv('edx_test.csv')\n",
        "original_test = pd.read_csv('edx_test.csv')\n",
        "\n",
        "target = \"certified\"\n",
        "\n",
        "values = {\"LoE_DI\": \"NA\",\n",
        "          \"gender\": \"NA\",\n",
        "          \"nevents\": 0,\n",
        "         \"ndays_act\": 0,\n",
        "         \"nplay_video\": 0,\n",
        "         \"nchapters\": 0,}\n",
        "\n",
        "df_train = df_train.fillna(value=values)\n",
        "df_test = df_test.fillna(value=values)\n",
        "\n",
        "df_train = df_train[features + [\"certified\"]]\n",
        "df_test = df_test[features]\n",
        "\n",
        "X_train_full = df_train.drop(target, axis=1)\n",
        "y_train_full = df_train[target]\n",
        "\n",
        "categorical_columns = [col for col in X_train_full.columns if X_train_full[col].dtype == 'object']\n",
        "\n",
        "df_train_encoded = pd.get_dummies(df_train, columns=categorical_columns)\n",
        "df_test_encoded = pd.get_dummies(df_test, columns=categorical_columns)\n",
        "\n",
        "df_test_encoded = df_test_encoded.reindex(columns=df_train_encoded.columns, fill_value=0)\n",
        "\n",
        "X_train = df_train_encoded.drop(target, axis=1)\n",
        "X_test = df_test_encoded.drop(target, axis=1, errors='ignore')\n",
        "\n",
        "X_test = X_test.fillna(X_train.median())\n",
        "\n",
        "X_train, X_val, y_train, y_val = train_test_split(X_train, y_train_full, test_size=0.2, random_state=42)\n",
        "\n",
        "numerical_columns = ['nevents', 'ndays_act', 'nplay_video', 'nchapters', 'nforum_posts']\n",
        "\n",
        "scaler = StandardScaler()\n",
        "X_train[numerical_columns] = scaler.fit_transform(X_train[numerical_columns])\n",
        "X_val[numerical_columns] = scaler.transform(X_val[numerical_columns])\n",
        "X_test[numerical_columns] = scaler.transform(X_test[numerical_columns])\n",
        "\n",
        "\n",
        "decision_tree_params = {\n",
        "    'max_depth': 10,\n",
        "    'min_samples_split': 5,\n",
        "    'min_samples_leaf': 2,\n",
        "    'criterion': 'gini',\n",
        "}\n",
        "\n",
        "decision_tree_model = DecisionTreeClassifier(random_state=42, **decision_tree_params)\n",
        "decision_tree_model.fit(X_train, y_train)\n",
        "decision_tree_predictions = decision_tree_model.predict(X_val)\n",
        "\n",
        "print(\"Decision Tree Accuracy:\", accuracy_score(y_val, decision_tree_predictions))\n",
        "\n",
        "random_forest_params = {\n",
        "    'n_estimators': 100,\n",
        "    'max_depth': 30,\n",
        "    'min_samples_split': 5,\n",
        "    'min_samples_leaf': 2,\n",
        "    'max_features': 'sqrt',\n",
        "}\n",
        "\n",
        "random_forest_model = RandomForestClassifier(random_state=42, **random_forest_params)\n",
        "random_forest_model.fit(X_train, y_train)\n",
        "random_forest_predictions = random_forest_model.predict(X_val)\n",
        "\n",
        "print(\"Random Forest Accuracy:\", accuracy_score(y_val, random_forest_predictions))\n",
        "\n",
        "dt_cm = confusion_matrix(y_val, decision_tree_predictions)\n",
        "rf_cm = confusion_matrix(y_val, random_forest_predictions)\n",
        "\n",
        "plt.figure(figsize=(6, 6))\n",
        "sns.heatmap(dt_cm, annot=True, fmt='d', cmap='Blues')\n",
        "plt.title('Confusion matrix for Decision Tree model')\n",
        "plt.xlabel('Predicted')\n",
        "plt.ylabel('True')\n",
        "plt.show()\n",
        "\n",
        "plt.figure(figsize=(6, 6))\n",
        "sns.heatmap(rf_cm, annot=True, fmt='d', cmap='Blues')\n",
        "plt.title('Confusion matrix for Random Forest model')\n",
        "plt.xlabel('Predicted')\n",
        "plt.ylabel('True')\n",
        "plt.show()\n",
        "\n",
        "test_predictions_random_forest = random_forest_model.predict(X_test)\n",
        "test_predictions_decision_tree = decision_tree_model.predict(X_test)\n",
        "\n",
        "to_save = original_test[['userid_DI']].copy()\n",
        "to_save['certified'] = test_predictions_random_forest\n",
        "to_save.to_csv('submission.csv', index=False)\n"
      ],
      "metadata": {
        "colab": {
          "base_uri": "https://localhost:8080/",
          "height": 1000
        },
        "id": "Fgs3N0B5bDb8",
        "outputId": "d930deff-c7c0-4feb-e906-a13c7145b889"
      },
      "execution_count": null,
      "outputs": [
        {
          "output_type": "stream",
          "name": "stdout",
          "text": [
            "Decision Tree Accuracy: 0.9560502283105022\n",
            "Random Forest Accuracy: 0.968607305936073\n"
          ]
        },
        {
          "output_type": "display_data",
          "data": {
            "text/plain": [
              "<Figure size 600x600 with 2 Axes>"
            ],
            "image/png": "[encoded data removed]"
          },
          "metadata": {}
        },
        {
          "output_type": "display_data",
          "data": {
            "text/plain": [
              "<Figure size 600x600 with 2 Axes>"
            ],
            "image/png": "[encoded data removed]"
          },
          "metadata": {}
        }
      ]
    },
    {
      "cell_type": "markdown",
      "metadata": {
        "id": "xz_Yk6BDXk1H"
      },
      "source": [
        "**Remember to submit your submissions CSV FILE on Kaggle!** 40 pts come from your accuracy on the private test data.\n",
        "\n",
        "Attend section on Thurs 5/11 for a demo of how to uppload submissions to Kaggle. We also have screenshots below (ingore summer and homework number in pictures)\n",
        "\n",
        "Step 1: See the list of files on Colab\n",
        "\n",
        "![See Colab Files](https://courses.cs.washington.edu/courses/cse416/22su/homework/hw4/programming/1_colab_see_files.jpg)\n",
        "\n",
        "Step 2: Download `submission.csv`\n",
        "\n",
        "![Download Colab File](https://courses.cs.washington.edu/courses/cse416/22su/homework/hw4/programming/2_colab_download_file.jpg)\n",
        "\n",
        "Step 3: Join the Kaggle competition.\n",
        "\n",
        "![Join the Kaggle Competition](https://courses.cs.washington.edu/courses/cse416/22su/homework/hw4/programming/3_kaggle_join_competition.jpg)\n",
        "\n",
        "Step 4: Enusre your team name in Kaggle matches the one at the top of this notebook!\n",
        "\n",
        "![Check Team Name](https://courses.cs.washington.edu/courses/cse416/22su/homework/hw4/programming/4_kaggle_team_name.jpg)\n",
        "\n",
        "Step 5: Upload `submission.csv` to Kaggle\n",
        "\n",
        "![Upload submission.csv](https://courses.cs.washington.edu/courses/cse416/22su/homework/hw4/programming/6_kaggle_upload_submission.jpg)\n",
        "\n"
      ]
    },
    {
      "cell_type": "markdown",
      "metadata": {
        "id": "aOwxTjy3OPh6"
      },
      "source": [
        "### **Discussion**\n",
        "\n"
      ]
    },
    {
      "cell_type": "markdown",
      "metadata": {
        "id": "W8wZm-0cOe6U"
      },
      "source": [
        "#### **[7 Pts] Training the Models**\n",
        "\n",
        "**Instructions**: Discuss what models you tried, and what you did to improve your initial predictions. Discuss what hyperparameters you tried, and which hyperparameters seemed important for your final model. Finally, discuss what you are inferring from the above visualiation(s)."
      ]
    },
    {
      "cell_type": "markdown",
      "source": [
        "For our two models, we chose to use the random forest classifier and decision tree classifier. We first split the data into training and validation sets and used one-hot encoding via get_dummies to convert categorical variables into numerical features. We then scaled the numerical features. Initially, the accuracy scores for both models were in the 60% to 70% range. To improve the models and achieve an accuracy of 95% or above, we tuned the hyperparameters for each model iteratively until we reached our desired performance. The final hyperparameters for the decision tree model were: max_depth=10, min_samples_split=5, min_samples_leaf=2, criterion=’gini’. The final hyperparameters for the random forest modell were: n_estimators=100, max_depth=30, min_samples_split-5, min_samples_leaf=2, and max_features=’sqrt’. We trained the models on the training data and evaluated their performance using confusion matrices. For the Decision Tree model: 938 represented true negatives, 38 false negatives, 39 false positives and 737 true positives. For the Random Forest model: we got 936 true negatives, 14 false negatives, 41 false positives, and 761 true negatives. The Random Forest model demonstrated slightly better performance, with a higher number of true positives and fewer false negatives compared to the Decision Tree model.\n"
      ],
      "metadata": {
        "id": "DnNW-aBqoX9a"
      }
    },
    {
      "cell_type": "markdown",
      "metadata": {
        "id": "4uCjBLL1Ow-Q"
      },
      "source": [
        "#### **[3 Pts] Feature Selection**\n",
        "\n",
        "**Instructions**: Discuss what features you used and whether you did some transformations on them. What features seemed important for your final model?"
      ]
    },
    {
      "cell_type": "markdown",
      "source": [
        "Features used: course_id, explored, final_cc_cname_DI, LoE_DI, gender, nevents, ndays_act, nplay_video, nchapters, and nforum_posts.\n",
        "\n",
        "The categorical features: course_id, explored, final_cc_cname_DI, LoE_DI, gender went through transformation through one-hot encoding. It turned them into a numerical value.\n",
        "\n",
        "The numerical features: nevents, ndays_act, nplay_video, nchapters, nforum_posts were standardized using StandardScaler, which takes the mean of zero and the standard deviation of one.\n",
        "\n",
        "The missing values were turned into zero.\n",
        "\n",
        "Key features: nevents, ndays_act, nplay_video, nchapters, and nforum_posts seemed important for the final model since it showed student activity."
      ],
      "metadata": {
        "id": "XUvnD6VKpD2b"
      }
    },
    {
      "cell_type": "markdown",
      "metadata": {
        "id": "nbodmlrhPCJv"
      },
      "source": [
        "#### **[5 Pts] Ethical Implications**\n",
        "\n",
        "**Instructions**: Consider and discuss the ethical implications of using the model you trained. Imagine you were hired to work as a data scientist for an online education platform (exciting, right?). They want to use your model to predict which students they should tailor their course material towards so they can maximize their profits. Their idea is to use the model to help predict which student groups (i.e. from specific countries or certain educational backgrounds) would make them the most money by getting the most participants to complete their paid certificate program. Are there any ethical considerations we should think about before acting on that plan?"
      ]
    },
    {
      "cell_type": "markdown",
      "source": [
        "Some ethical issues this may cause include bias and fairness issues. If the model finds that groups of people from certain countries and certain educational backgrounds yield a greater profit towards the university, then it might create bias within the model and not represent people from disadvantaged backgrounds. This would create the model to potentially discriminate against people from disadvantaged backgrounds. This model also does not take into account student determination. Just because a student comes from a disadvantaged community, does not mean that they would not have drive to be successful and complete a certificate program. This model also has the issue of the university prioritizing students over how much income they can provide the school, instead of putting an emphasis on students education above all else. This could also cause the school to provide more resources to well of students and not to disadvantaged students. It is so important that we think about these things before acting of projects because we need to consider how it can effect real peoples lives. We must ensure our models are as ethical as possible."
      ],
      "metadata": {
        "id": "UdIyiEaipDDY"
      }
    }
  ],
  "metadata": {
    "colab": {
      "provenance": []
    },
    "kernelspec": {
      "display_name": "Python 3",
      "name": "python3"
    },
    "language_info": {
      "name": "python"
    }
  },
  "nbformat": 4,
  "nbformat_minor": 0
}